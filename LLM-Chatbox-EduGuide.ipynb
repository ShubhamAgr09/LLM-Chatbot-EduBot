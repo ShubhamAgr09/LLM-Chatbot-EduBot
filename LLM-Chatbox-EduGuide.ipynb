{
  "nbformat": 4,
  "nbformat_minor": 0,
  "metadata": {
    "colab": {
      "provenance": []
    },
    "kernelspec": {
      "name": "python3",
      "display_name": "Python 3"
    },
    "language_info": {
      "name": "python"
    }
  },
  "cells": [
    {
      "cell_type": "code",
      "execution_count": null,
      "metadata": {
        "id": "I-M7vqfmnXhk"
      },
      "outputs": [],
      "source": [
        "# !pip install openai\n",
        "# !apt install dotenv\n",
        "import openai\n",
        "openai.api_key = \"YOUR_KEY\""
      ]
    },
    {
      "cell_type": "code",
      "source": [
        "def get_completion(prompt, model=\"gpt-3.5-turbo\"):\n",
        "    messages = [{\"role\": \"user\", \"content\": prompt}]\n",
        "    response = openai.ChatCompletion.create(\n",
        "        model=model,\n",
        "        messages=messages,\n",
        "        temperature=0, # this is the degree of randomness of the model's output\n",
        "    )\n",
        "    return response.choices[0].message[\"content\"]\n",
        "\n",
        "def get_completion_from_messages(messages, model=\"gpt-3.5-turbo\", temperature=0):\n",
        "    response = openai.ChatCompletion.create(\n",
        "        model=model,\n",
        "        messages=messages,\n",
        "        temperature=temperature, # this is the degree of randomness of the model's output\n",
        "    )\n",
        "#     print(str(response.choices[0].message))\n",
        "    return response.choices[0].message[\"content\"]"
      ],
      "metadata": {
        "id": "9XQMH0CTn3Lg"
      },
      "execution_count": null,
      "outputs": []
    },
    {
      "cell_type": "code",
      "source": [
        "def collect_messages(_):\n",
        "    prompt = inp.value_input\n",
        "    inp.value = ''\n",
        "    context.append({'role':'user', 'content':f\"{prompt}\"})\n",
        "    response = get_completion_from_messages(context)\n",
        "    context.append({'role':'assistant', 'content':f\"{response}\"})\n",
        "    panels.append(\n",
        "        pn.Row('User:', pn.pane.Markdown(prompt, width=600)))\n",
        "    panels.append(\n",
        "        pn.Row('Assistant:', pn.pane.Markdown(response, width=600, style={'background-color': '#F6F6F6'})))\n",
        "\n",
        "    return pn.Column(*panels)"
      ],
      "metadata": {
        "id": "167v_fo3nzM5"
      },
      "execution_count": null,
      "outputs": []
    },
    {
      "cell_type": "markdown",
      "source": [
        "#EduGuide\n",
        "Chatbox to help new learners with course inquiry for learning platforms."
      ],
      "metadata": {
        "id": "1KujtTvWhX96"
      }
    },
    {
      "cell_type": "code",
      "source": [
        "import panel as pn  # GUI\n",
        "pn.extension()\n",
        "\n",
        "panels = [] # collect display\n",
        "\n",
        "\n",
        "context = [ {'role':'system', 'content':\"\"\"\n",
        "You are EduGuide, an automated service to help learners with various course related enquiries. \\\n",
        "You first greet the customer, then collects their information- 1.Name, 2.Phone number, 3.Email, 4.City, 5.Preferred Spoken Language for Course, \\\n",
        "Wait for their input and then process the input given\\\n",
        "Ask if they are students or working professionals\\\n",
        "Wait for their input and then process the input given\\\n",
        "Then ask about skills they want to learn and about their goal or target job. \\\n",
        "Wait for their input and then process the input given\\\n",
        "Ask if they want a paid course or free course. \\\n",
        "Wait for their input and then process the input given\\\n",
        "You collect the entire information, then summarize it and check with learner if they want to reconsider any choice of skill or course. \\\n",
        "Suggest them demonstrations of paid courses according to their interest.\\\n",
        "ask if the Learner wants to add anything else. \\\n",
        "Wait for their input and then process the input given\\\n",
        "if they dont want any course at all then suggest closely related free courses and politely try to convince them to atleast try once by suggesting we have great content and experienced teachers.\\\n",
        "If he chooses paid courses, provide him total amount and ask for payment.\\\n",
        "Inform that only Payment methods available are digital- 1. UPI, 2. Card (debit or credit), 3. Net Banking. Details can be found on website\\\n",
        "Make sure to clarify all course names to the learner before billing.\\\n",
        "identify the course items from the paid course menu and free course menu respectively.\\\n",
        "You respond in a short, very educational-councelor and friendly style. \\\n",
        "Paid Courses include some hotselling courses which are mostly preferred and bought by a lot of learners and have great feedbacks.\\\n",
        "Free Courses include some most viewed courses which are liked by plenty of new learners.\\\n",
        "The PAID Courses menu includes names of courses and cost in front of them \\\n",
        "Specialisation Course - Deep Learning Course (hotselling) Rs.4999\\\n",
        "Specialisation Course - Prompt Engineering (hotselling) Rs.1999\\\n",
        "Specialisation Course - NLP Course (hotselling) Rs.3999\\\n",
        "Generative AI models and LLMs Rs.1,499\\\n",
        "Programming in Python basics (hotselling) Rs.699\\\n",
        "Programming in Python Intermediate  Rs.999\\\n",
        "Programming in Python Advance   Rs.1299\\\n",
        "OOPS concept in Python  Rs.499\\\n",
        "Programming in R basics to advance  Rs.1499\\\n",
        "Complete Machine Learning Course (hotselling) Rs.3999\\\n",
        "OOPS in C++ Rs.499\\\n",
        "Statistics and Hypothesis Testing with Python Rs.999\\\n",
        "Statistics and Hypothesis Testing with R Rs.499\\\n",
        "Advance Data Science Course (hotselling) Rs.5999\\\n",
        "MLOPs Course Rs.1999\\\n",
        "DEVOPs Course Rs.1999\\\n",
        "Tableau Basic to Advance Rs.1499\\\n",
        "Power BI Basic to Advance Rs.699\\\n",
        "Model Deployment with AWS Course Rs.1399\\\n",
        "\n",
        "The FREE courses menu includes\\\n",
        "Programming in C++ (most viewed)\\\n",
        "What are LLMs (most viewed)\\\n",
        "Python Quizes \\\n",
        "C++ Quizes \\\n",
        "Deep Learning Quizes \\\n",
        "Introduction to Machine Learning (most viewed)\\\n",
        "Introduction to Python (most viewed)\\\n",
        "Introduction to R\\\n",
        "Introduction to Cloud Computing (most viewed)\\\n",
        "\n",
        "Apply Discounts based on the following scheme\\\n",
        "discount 10% for bill greater than Rs.499\\\n",
        "Subsequently add 5% discount if total amount increases by Rs.500\\\n",
        "in the end, prepare a bill for the learner for whatever courses he bought having name and price of course along with total money (incl. 18percent GST and discounts as suggested).\\\n",
        "\"\"\"} ]  # accumulate messages\n",
        "\n",
        "\n",
        "inp = pn.widgets.TextInput(value=\"Hi\", placeholder='Enter text here…')\n",
        "button_conversation = pn.widgets.Button(name=\"Chat!\")\n",
        "\n",
        "interactive_conversation = pn.bind(collect_messages, button_conversation)\n",
        "\n",
        "dashboard = pn.Column(\n",
        "    inp,\n",
        "    pn.Row(button_conversation),\n",
        "    pn.panel(interactive_conversation, loading_indicator=True, height=300),\n",
        ")\n",
        "\n",
        "dashboard"
      ],
      "metadata": {
        "id": "sEGjJ8auhwIj"
      },
      "execution_count": null,
      "outputs": []
    }
  ]
}